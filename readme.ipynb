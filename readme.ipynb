{
 "cells": [
  {
   "cell_type": "markdown",
   "id": "fc08864b",
   "metadata": {},
   "source": [
    "#### Holy Grail and Theme Switch\n",
    "[Holy Grail Design](https://www.digitalocean.com/community/tutorials/css-css-grid-holy-grail-layout)<br>\n",
    "[Theme-Switch-Toggle](https://dev.to/whitep4nth3r/the-best-lightdark-mode-theme-toggle-in-javascript-368f)\n",
    "<img src=\"assets\\HolyGrail.png\" width = \"400\">"
   ]
  },
  {
   "cell_type": "markdown",
   "id": "3aedc9f4",
   "metadata": {
    "vscode": {
     "languageId": "html"
    }
   },
   "source": [
    "<div class=\"container\">\n",
    "    <header>\n",
    "        HEADER\n",
    "    </header>\n",
    "    <nav>\n",
    "        NAVIGATION\n",
    "    </nav>\n",
    "    <main>\n",
    "        MAIN\n",
    "    </main>\n",
    "    <aside>\n",
    "        ASIDE\n",
    "    </aside>\n",
    "    <footer>\n",
    "        FOOTER\n",
    "    </footer>\n",
    "</div>"
   ]
  },
  {
   "cell_type": "markdown",
   "id": "4f12aabb",
   "metadata": {},
   "source": [
    "#### The grid"
   ]
  },
  {
   "cell_type": "code",
   "execution_count": null,
   "id": "bab8e39b",
   "metadata": {
    "vscode": {
     "languageId": "html"
    }
   },
   "outputs": [],
   "source": [
    "HTML(\"\"\"\n",
    "<style>\n",
    ".container>\n",
    "\n",
    ".container {\n",
    "    display: grid;\n",
    "\n",
    "    grid-template-areas:\n",
    "   \"header header header\"\n",
    "   \"nav content side\"\n",
    "   \"footer footer footer\";\n",
    "\n",
    "   grid-template-columns: 200px 1fr 200px;\n",
    "   grid-template-rows: auto 1fr auto;\n",
    "   grid-gap: 10px;\n",
    "\n",
    "   height: 100vh;\n",
    "}\n",
    "</style>\n",
    "\"\"\")"
   ]
  },
  {
   "cell_type": "markdown",
   "id": "e8d060e1",
   "metadata": {},
   "source": [
    "#### Grid items"
   ]
  },
  {
   "cell_type": "code",
   "execution_count": null,
   "id": "62fb67b8",
   "metadata": {
    "vscode": {
     "languageId": "html"
    }
   },
   "outputs": [],
   "source": [
    "HTML(\"\"\"\n",
    "<style>\n",
    "    header {\n",
    "        grid-area: header;\n",
    "    }\n",
    "\n",
    "    nav {\n",
    "        grid-area: nav;\n",
    "        margin-left: 0.5rem;\n",
    "    }\n",
    "\n",
    "    main {\n",
    "        grid-area: main;\n",
    "    }\n",
    "\n",
    "    aside {\n",
    "        grid-area: side;\n",
    "        margin-right: 0.5rem;\n",
    "    }\n",
    "\n",
    "    footer {\n",
    "        grid-area: footer;\n",
    "    }\n",
    "</style>\n",
    "\"\"\"\")"
   ]
  },
  {
   "cell_type": "markdown",
   "id": "71bcab3d",
   "metadata": {},
   "source": [
    "#### Make it responsive"
   ]
  },
  {
   "cell_type": "code",
   "execution_count": null,
   "id": "4e6fbacf",
   "metadata": {
    "vscode": {
     "languageId": "html"
    }
   },
   "outputs": [],
   "source": [
    "HTML(\"\"\"\n",
    "<style>\n",
    "    @media (max-width: 768px) {\n",
    "        .container {\n",
    "            grid-template-areas:\n",
    "            \"header\"\n",
    "            \"nav\"\n",
    "            \"content\"\n",
    "            \"side\"\n",
    "            \"footer\";\n",
    "\n",
    "            grid-template-columns: 1fr;\n",
    "            grid-template-rows:\n",
    "            auto\n",
    "            minmax(75px, auto)\n",
    "            1fr\n",
    "            minmax(75px, auto)\n",
    "            auto;\n",
    "        }\n",
    "\n",
    "        nav, aside {\n",
    "            margin: 0;\n",
    "        }\n",
    "    }\n",
    "</style>\n",
    "\"\"\")"
   ]
  },
  {
   "cell_type": "markdown",
   "id": "588a6058",
   "metadata": {},
   "source": [
    "[Light-Theme-Palette](https://colorhunt.co/palette/f5efffe5d9f2cdc1ffa294f9)<br>\n",
    "[Dark-Theme-Palette](https://colorhunt.co/palette/070f2b1b1a55535c919290c3)"
   ]
  }
 ],
 "metadata": {
  "kernelspec": {
   "display_name": ".venv",
   "language": "python",
   "name": "python3"
  },
  "language_info": {
   "codemirror_mode": {
    "name": "ipython",
    "version": 3
   },
   "file_extension": ".py",
   "mimetype": "text/x-python",
   "name": "python",
   "nbconvert_exporter": "python",
   "pygments_lexer": "ipython3",
   "version": "3.13.7"
  }
 },
 "nbformat": 4,
 "nbformat_minor": 5
}
